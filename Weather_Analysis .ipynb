{
 "cells": [
  {
   "cell_type": "code",
   "execution_count": 23,
   "id": "acceptable-phone",
   "metadata": {},
   "outputs": [
    {
     "name": "stdout",
     "output_type": "stream",
     "text": [
      "       index        date  temperature  wind_speed  surface_solar_radiation  \\\n",
      "0         54  2020-03-15        12.19        2.66                       46   \n",
      "1         55  2020-03-16        12.74        0.49                      112   \n",
      "2         56  2020-03-17        15.40        1.45                      111   \n",
      "3         57  2020-03-18        19.84        1.06                      143   \n",
      "4         58  2020-03-19        21.98        3.13                      222   \n",
      "...      ...         ...          ...         ...                      ...   \n",
      "20113    417  2021-03-13         6.26        8.94                       16   \n",
      "20114    418  2021-03-14         5.07        5.36                       39   \n",
      "20115    419  2021-03-15         6.16        1.76                       78   \n",
      "20116    420  2021-03-16         2.91        5.74                       88   \n",
      "20117    421  2021-03-17         2.89        8.17                       60   \n",
      "\n",
      "       total_cloud_cover  total_precipitation  relative_humidity    county  \\\n",
      "0                   1.00                 0.08               0.72  Anderson   \n",
      "1                   0.98                 0.23               0.79  Anderson   \n",
      "2                   0.66                 0.01               0.83  Anderson   \n",
      "3                   0.94                 0.19               0.80  Anderson   \n",
      "4                   0.92                 0.00               0.69  Anderson   \n",
      "...                  ...                  ...                ...       ...   \n",
      "20113               1.00                 0.00               0.88      York   \n",
      "20114               1.00                 0.00               0.95      York   \n",
      "20115               1.00                 0.01               0.87      York   \n",
      "20116               0.99                 0.65               0.81      York   \n",
      "20117               1.00                 1.89               0.72      York   \n",
      "\n",
      "                state   fips state_id  population      lat      lng  cases  \\\n",
      "0      South Carolina  45007       SC      198064  34.5193 -82.6378      2   \n",
      "1      South Carolina  45007       SC      198064  34.5193 -82.6378      2   \n",
      "2      South Carolina  45007       SC      198064  34.5193 -82.6378      2   \n",
      "3      South Carolina  45007       SC      198064  34.5193 -82.6378      2   \n",
      "4      South Carolina  45007       SC      198064  34.5193 -82.6378      3   \n",
      "...               ...    ...      ...         ...      ...      ...    ...   \n",
      "20113        Nebraska  31185       NE       13745  40.8727 -97.5971   1671   \n",
      "20114        Nebraska  31185       NE       13745  40.8727 -97.5971   1672   \n",
      "20115        Nebraska  31185       NE       13745  40.8727 -97.5971   1672   \n",
      "20116        Nebraska  31185       NE       13745  40.8727 -97.5971   1675   \n",
      "20117        Nebraska  31185       NE       13745  40.8727 -97.5971   1683   \n",
      "\n",
      "       deaths  cases_per_100k  cases_per_100k  \n",
      "0         0.0        1.009775        0.000000  \n",
      "1         0.0        1.009775        0.000000  \n",
      "2         0.0        1.009775        0.000000  \n",
      "3         0.0        1.009775        0.000000  \n",
      "4         0.0        1.514662        0.000000  \n",
      "...       ...             ...             ...  \n",
      "20113    13.0    12157.148054       94.579847  \n",
      "20114    13.0    12164.423427       94.579847  \n",
      "20115    13.0    12164.423427       94.579847  \n",
      "20116    13.0    12186.249545       94.579847  \n",
      "20117    13.0    12244.452528       94.579847  \n",
      "\n",
      "[20118 rows x 19 columns]\n"
     ]
    }
   ],
   "source": [
    "import pandas as pd\n",
    "df = pd.read_csv (r'Resources/weather_covid.csv')\n",
    "df\n",
    "df.drop(['county_fips_y','state_id_y','state_name_y','lat_y','lng_y','population_y','state','fips', 'county_y'],inplace=True,axis=1)\n",
    "renamed = df.rename(columns={'temperature (degC)':'temperature',\n",
    "                             'wind_speed (m/s)':'wind_speed',\n",
    "                             'surface_solar_radiation (W/m^2)':'surface_solar_radiation',\n",
    "                             'total_cloud_cover (0-1)':'total_cloud_cover',\n",
    "                             'total_precipitation (mm of water equivalent)':'total_precipitation',\n",
    "                             'relative_humidity (0-1)':'relative_humidity','state_name_x':'state_name',\n",
    "                             'county_x':'county',\n",
    "                             'state_name_x': 'state',\n",
    "                             'county_fips_x':'fips',\n",
    "                             'state_id_x':'state_id',\n",
    "                             'population_x':'population',\n",
    "                             'lat_x':'lat',\n",
    "                             'lng_x':'lng',\n",
    "                             'Cases per 100k':'cases_per_100k',\n",
    "                             'Deaths per 100k':'cases_per_100k'})\n",
    "print(renamed)\n"
   ]
  },
  {
   "cell_type": "code",
   "execution_count": null,
   "id": "banned-walker",
   "metadata": {},
   "outputs": [],
   "source": []
  }
 ],
 "metadata": {
  "kernelspec": {
   "display_name": "Python [conda env:PythonData] *",
   "language": "python",
   "name": "conda-env-PythonData-py"
  },
  "language_info": {
   "codemirror_mode": {
    "name": "ipython",
    "version": 3
   },
   "file_extension": ".py",
   "mimetype": "text/x-python",
   "name": "python",
   "nbconvert_exporter": "python",
   "pygments_lexer": "ipython3",
   "version": "3.6.10"
  }
 },
 "nbformat": 4,
 "nbformat_minor": 5
}
