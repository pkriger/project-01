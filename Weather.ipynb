{
 "cells": [
  {
   "cell_type": "code",
   "execution_count": 42,
   "id": "hungry-train",
   "metadata": {},
   "outputs": [
    {
     "data": {
      "text/plain": [
       "(Empty DataFrame\n",
       " Columns: [county, state, county_fips, state_id, lat, lng, population, temperature, urban_temperature, skin_temperature, wind_speed, surface_solar_radiation, total_cloud_cover, total_precipitation, relative_humidity]\n",
       " Index: [],\n",
       "         county           state  county_fips state_id      lat       lng  \\\n",
       " 0    Frederick        Maryland        24021       MD  39.4722  -77.3980   \n",
       " 1     Canadian        Oklahoma        40017       OK  35.5424  -97.9824   \n",
       " 2         Dyer       Tennessee        47045       TN  36.0591  -89.4138   \n",
       " 3       Bertie  North Carolina        37015       NC  36.0662  -76.9787   \n",
       " 4       Thomas          Kansas        20193       KS  39.3509 -101.0556   \n",
       " ..         ...             ...          ...      ...      ...       ...   \n",
       " 93      Wadena       Minnesota        27159       MN  46.5858  -94.9694   \n",
       " 94  Crittenden        Arkansas         5035       AR  35.2079  -90.3089   \n",
       " 95    Richland  South Carolina        45079       SC  34.0218  -80.9031   \n",
       " 96        Pike     Mississippi        28113       MS  31.1749  -90.4042   \n",
       " 97   Clarendon  South Carolina        45027       SC  33.6658  -80.2164   \n",
       " \n",
       "     population  \n",
       " 0       251422  \n",
       " 1       140455  \n",
       " 2        37416  \n",
       " 3        19380  \n",
       " 4         7810  \n",
       " ..         ...  \n",
       " 93       13654  \n",
       " 94       48672  \n",
       " 95      411357  \n",
       " 96       39532  \n",
       " 97       33957  \n",
       " \n",
       " [98 rows x 7 columns])"
      ]
     },
     "execution_count": 42,
     "metadata": {},
     "output_type": "execute_result"
    }
   ],
   "source": [
    "import requests\n",
    "import pandas as pd\n",
    "\n",
    "#load hundred_city_df\n",
    "hundred_city_df = pd.read_csv (r'Resources\\100_countiesdata.csv')\n",
    "#clean up hundred_city_df\n",
    "hundred_city_df = hundred_city_df.drop(labels=[\"county_y\",\"county_ascii\", \"date\", \"cases\",\"deaths\", \"fips\", \"state_name\"],axis=1)\n",
    "hundred_city_df.rename(columns={\"county_x\":\"county\"},inplace=True)\n",
    "\n",
    "#create weather_df\n",
    "column_names=['county','state','county_fips','state_id','lat','lng','population','temperature','urban_temperature','skin_temperature',\n",
    "              'wind_speed','surface_solar_radiation','total_cloud_cover','total_precipitation', 'relative_humidity']\n",
    "weather_df = pd.DataFrame(columns = column_names)\n",
    "weather_df, hundred_city_df"
   ]
  },
  {
   "cell_type": "code",
   "execution_count": 46,
   "id": "growing-production",
   "metadata": {},
   "outputs": [],
   "source": [
    "### Example Weather API Call\n",
    "for index, row in hundred_city_df.iterrows():\n",
    "    lat = row['lat']\n",
    "    lng = row['lng']\n",
    "    county_fips = row['county_fips']\n",
    "    county = row['county']\n",
    "    state = row['state']\n",
    "    state_id = row['state_id']\n",
    "    population = row['population']\n",
    "    \n",
    "    r = requests.get('https://api.oikolab.com/weather',\n",
    "                     params={'param': ['temperature','urban_temperature','skin_temperature','wind_speed','surface_solar_radiation',\n",
    "                                       'total_cloud_cover','total_precipitation', 'relative_humidity' ],\n",
    "                             'start': '2019-01-01',\n",
    "                             'end': '2021-3-1',\n",
    "                             'lat': lat,\n",
    "                             'lon': lng,\n",
    "                             'api-key': '<your_api_key_here>'}\n",
    "    \n",
    "                     \n",
    "    ## store json resonse per call in weather_df\n",
    "   "
   ]
  },
  {
   "cell_type": "code",
   "execution_count": null,
   "id": "virgin-landscape",
   "metadata": {},
   "outputs": [],
   "source": [
    " \n",
    "    "
   ]
  },
  {
   "cell_type": "code",
   "execution_count": null,
   "id": "exempt-radiation",
   "metadata": {},
   "outputs": [],
   "source": []
  }
 ],
 "metadata": {
  "kernelspec": {
   "display_name": "Python [conda env:PythonData] *",
   "language": "python",
   "name": "conda-env-PythonData-py"
  },
  "language_info": {
   "codemirror_mode": {
    "name": "ipython",
    "version": 3
   },
   "file_extension": ".py",
   "mimetype": "text/x-python",
   "name": "python",
   "nbconvert_exporter": "python",
   "pygments_lexer": "ipython3",
   "version": "3.6.10"
  }
 },
 "nbformat": 4,
 "nbformat_minor": 5
}
