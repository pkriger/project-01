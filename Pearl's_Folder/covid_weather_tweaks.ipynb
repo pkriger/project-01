{
 "cells": [
  {
   "cell_type": "code",
   "execution_count": 1,
   "id": "prescription-jackson",
   "metadata": {},
   "outputs": [
    {
     "data": {
      "text/html": [
       "<div>\n",
       "<style scoped>\n",
       "    .dataframe tbody tr th:only-of-type {\n",
       "        vertical-align: middle;\n",
       "    }\n",
       "\n",
       "    .dataframe tbody tr th {\n",
       "        vertical-align: top;\n",
       "    }\n",
       "\n",
       "    .dataframe thead th {\n",
       "        text-align: right;\n",
       "    }\n",
       "</style>\n",
       "<table border=\"1\" class=\"dataframe\">\n",
       "  <thead>\n",
       "    <tr style=\"text-align: right;\">\n",
       "      <th></th>\n",
       "      <th>date</th>\n",
       "      <th>temperature</th>\n",
       "      <th>wind_speed</th>\n",
       "      <th>surface_solar_radiation</th>\n",
       "      <th>total_cloud_cover</th>\n",
       "      <th>total_precipitation</th>\n",
       "      <th>relative_humidity</th>\n",
       "      <th>county</th>\n",
       "      <th>state</th>\n",
       "      <th>fips</th>\n",
       "      <th>state_id</th>\n",
       "      <th>population</th>\n",
       "      <th>lat</th>\n",
       "      <th>lng</th>\n",
       "      <th>cases</th>\n",
       "      <th>deaths</th>\n",
       "      <th>cases_per_100k</th>\n",
       "      <th>deaths_per_100k</th>\n",
       "    </tr>\n",
       "  </thead>\n",
       "  <tbody>\n",
       "    <tr>\n",
       "      <th>0</th>\n",
       "      <td>2020-03-15</td>\n",
       "      <td>12.19</td>\n",
       "      <td>2.66</td>\n",
       "      <td>46</td>\n",
       "      <td>1.00</td>\n",
       "      <td>0.08</td>\n",
       "      <td>0.72</td>\n",
       "      <td>Anderson</td>\n",
       "      <td>South Carolina</td>\n",
       "      <td>45007</td>\n",
       "      <td>SC</td>\n",
       "      <td>198064</td>\n",
       "      <td>34.5193</td>\n",
       "      <td>-82.6378</td>\n",
       "      <td>2</td>\n",
       "      <td>0.0</td>\n",
       "      <td>1.009775</td>\n",
       "      <td>0.0</td>\n",
       "    </tr>\n",
       "    <tr>\n",
       "      <th>1</th>\n",
       "      <td>2020-03-16</td>\n",
       "      <td>12.74</td>\n",
       "      <td>0.49</td>\n",
       "      <td>112</td>\n",
       "      <td>0.98</td>\n",
       "      <td>0.23</td>\n",
       "      <td>0.79</td>\n",
       "      <td>Anderson</td>\n",
       "      <td>South Carolina</td>\n",
       "      <td>45007</td>\n",
       "      <td>SC</td>\n",
       "      <td>198064</td>\n",
       "      <td>34.5193</td>\n",
       "      <td>-82.6378</td>\n",
       "      <td>2</td>\n",
       "      <td>0.0</td>\n",
       "      <td>1.009775</td>\n",
       "      <td>0.0</td>\n",
       "    </tr>\n",
       "    <tr>\n",
       "      <th>2</th>\n",
       "      <td>2020-03-17</td>\n",
       "      <td>15.40</td>\n",
       "      <td>1.45</td>\n",
       "      <td>111</td>\n",
       "      <td>0.66</td>\n",
       "      <td>0.01</td>\n",
       "      <td>0.83</td>\n",
       "      <td>Anderson</td>\n",
       "      <td>South Carolina</td>\n",
       "      <td>45007</td>\n",
       "      <td>SC</td>\n",
       "      <td>198064</td>\n",
       "      <td>34.5193</td>\n",
       "      <td>-82.6378</td>\n",
       "      <td>2</td>\n",
       "      <td>0.0</td>\n",
       "      <td>1.009775</td>\n",
       "      <td>0.0</td>\n",
       "    </tr>\n",
       "    <tr>\n",
       "      <th>3</th>\n",
       "      <td>2020-03-18</td>\n",
       "      <td>19.84</td>\n",
       "      <td>1.06</td>\n",
       "      <td>143</td>\n",
       "      <td>0.94</td>\n",
       "      <td>0.19</td>\n",
       "      <td>0.80</td>\n",
       "      <td>Anderson</td>\n",
       "      <td>South Carolina</td>\n",
       "      <td>45007</td>\n",
       "      <td>SC</td>\n",
       "      <td>198064</td>\n",
       "      <td>34.5193</td>\n",
       "      <td>-82.6378</td>\n",
       "      <td>2</td>\n",
       "      <td>0.0</td>\n",
       "      <td>1.009775</td>\n",
       "      <td>0.0</td>\n",
       "    </tr>\n",
       "    <tr>\n",
       "      <th>4</th>\n",
       "      <td>2020-03-19</td>\n",
       "      <td>21.98</td>\n",
       "      <td>3.13</td>\n",
       "      <td>222</td>\n",
       "      <td>0.92</td>\n",
       "      <td>0.00</td>\n",
       "      <td>0.69</td>\n",
       "      <td>Anderson</td>\n",
       "      <td>South Carolina</td>\n",
       "      <td>45007</td>\n",
       "      <td>SC</td>\n",
       "      <td>198064</td>\n",
       "      <td>34.5193</td>\n",
       "      <td>-82.6378</td>\n",
       "      <td>3</td>\n",
       "      <td>0.0</td>\n",
       "      <td>1.514662</td>\n",
       "      <td>0.0</td>\n",
       "    </tr>\n",
       "  </tbody>\n",
       "</table>\n",
       "</div>"
      ],
      "text/plain": [
       "         date  temperature  wind_speed  surface_solar_radiation  \\\n",
       "0  2020-03-15        12.19        2.66                       46   \n",
       "1  2020-03-16        12.74        0.49                      112   \n",
       "2  2020-03-17        15.40        1.45                      111   \n",
       "3  2020-03-18        19.84        1.06                      143   \n",
       "4  2020-03-19        21.98        3.13                      222   \n",
       "\n",
       "   total_cloud_cover  total_precipitation  relative_humidity    county  \\\n",
       "0               1.00                 0.08               0.72  Anderson   \n",
       "1               0.98                 0.23               0.79  Anderson   \n",
       "2               0.66                 0.01               0.83  Anderson   \n",
       "3               0.94                 0.19               0.80  Anderson   \n",
       "4               0.92                 0.00               0.69  Anderson   \n",
       "\n",
       "            state   fips state_id  population      lat      lng  cases  \\\n",
       "0  South Carolina  45007       SC      198064  34.5193 -82.6378      2   \n",
       "1  South Carolina  45007       SC      198064  34.5193 -82.6378      2   \n",
       "2  South Carolina  45007       SC      198064  34.5193 -82.6378      2   \n",
       "3  South Carolina  45007       SC      198064  34.5193 -82.6378      2   \n",
       "4  South Carolina  45007       SC      198064  34.5193 -82.6378      3   \n",
       "\n",
       "   deaths  cases_per_100k  deaths_per_100k  \n",
       "0     0.0        1.009775              0.0  \n",
       "1     0.0        1.009775              0.0  \n",
       "2     0.0        1.009775              0.0  \n",
       "3     0.0        1.009775              0.0  \n",
       "4     0.0        1.514662              0.0  "
      ]
     },
     "execution_count": 1,
     "metadata": {},
     "output_type": "execute_result"
    }
   ],
   "source": [
    "import os\n",
    "import pandas as pd\n",
    "import numpy as np\n",
    "#import matplotlib.pyplot as plt\n",
    "#Celsius to Fahrenheit Formula: (°C * 1.8) + 32 = °F\n",
    "\n",
    "\n",
    "df = pd.read_csv(\"clean_weather_health.csv\")\n",
    "df.head()"
   ]
  },
  {
   "cell_type": "code",
   "execution_count": 2,
   "id": "executive-particular",
   "metadata": {},
   "outputs": [],
   "source": [
    "df=df.sort_values(by=['fips','date'])"
   ]
  },
  {
   "cell_type": "code",
   "execution_count": 3,
   "id": "invalid-struggle",
   "metadata": {},
   "outputs": [],
   "source": [
    "df[\"new_cases_per_100k\"]=\"\"\n",
    "df[\"new_deaths_per_100k\"]=\"\"\n",
    "curr_cases = 0\n",
    "prior_day_cases = 0\n",
    "curr_deaths = 0\n",
    "prior_day_deaths = 0\n",
    "curr_county=\"\"\n",
    "prior_county=\"\""
   ]
  },
  {
   "cell_type": "code",
   "execution_count": 4,
   "id": "gross-technician",
   "metadata": {},
   "outputs": [],
   "source": [
    "for index, row in df.iterrows():\n",
    "    curr_county= row[\"fips\"]\n",
    "    curr_cases = row[\"cases_per_100k\"]\n",
    "    curr_deaths = row[\"deaths_per_100k\"]\n",
    "    \n",
    "    if curr_county == prior_county:\n",
    "        new_cases = (curr_cases - prior_day_cases)\n",
    "        new_deaths = (curr_deaths - prior_day_deaths)\n",
    "    \n",
    "    else:\n",
    "        new_cases = curr_cases\n",
    "        new_deaths= (curr_deaths) \n",
    "        \n",
    "    df.loc[index,\"new_cases_per_100k\"]= new_cases\n",
    "    df.loc[index,\"new_deaths_per_100k\"]= new_deaths\n",
    "    \n",
    "    prior_county = curr_county\n",
    "    prior_day_cases = curr_cases\n",
    "    prior_day_deaths = curr_deaths\n",
    "    \n"
   ]
  },
  {
   "cell_type": "code",
   "execution_count": 6,
   "id": "minor-canvas",
   "metadata": {},
   "outputs": [],
   "source": [
    "daily_df=df.copy()\n",
    "#daily_df.to_csv(\"new_cases.csv\", index=False, header=True)"
   ]
  },
  {
   "cell_type": "code",
   "execution_count": 7,
   "id": "racial-grass",
   "metadata": {},
   "outputs": [],
   "source": [
    "daily_df[\"new_cases\"]=daily_df[\"new_cases_per_100k\"]*daily_df[\"population\"]/100000\n",
    "daily_df[\"new_deaths\"]=daily_df[\"new_deaths_per_100k\"]*daily_df[\"population\"]/100000"
   ]
  },
  {
   "cell_type": "code",
   "execution_count": 17,
   "id": "utility-protection",
   "metadata": {},
   "outputs": [
    {
     "data": {
      "image/png": "[encoded data removed]",
      "text/plain": [
       "<Figure size 432x288 with 2 Axes>"
      ]
     },
     "metadata": {
      "needs_background": "light"
     },
     "output_type": "display_data"
    }
   ],
   "source": [
    "#%matplotlib notebook\n",
    "#from matplotlib.dates import DateFormatter\n",
    "from datetime import datetime, timedelta\n",
    "from matplotlib import pyplot as plt\n",
    "#from matplotlib import dates as mpl_dates\n",
    "\n",
    "denton_df=daily_df[daily_df['county']== \"Denton\"]\n",
    "dates=denton_df['date']\n",
    "\n",
    "dates = pd.to_datetime(dates)\n",
    "\n",
    "cases=denton_df['new_cases']\n",
    "temp= denton_df['temperature']\n",
    "temp= (temp * 1.8) + 32 \n",
    "\n",
    "fig= plt.figure()\n",
    "ax1 = fig.add_subplot(111)\n",
    "ax1.bar(dates, cases)\n",
    "ax1.set_ylabel(\"Daily New Cases\")\n",
    "\n",
    "ax2 = ax1.twinx() \n",
    "ax2.scatter(dates, temp)\n",
    "ax2.set_ylabel(\"Temperature (deg F)\")\n",
    "\n",
    "plt.gcf().autofmt_xdate()\n",
    "\n",
    "#plt.scatter(temp, cases)"
   ]
  },
  {
   "cell_type": "code",
   "execution_count": 69,
   "id": "liked-appreciation",
   "metadata": {},
   "outputs": [],
   "source": [
    "# %matplotlib notebook\n",
    "# from matplotlib.dates import DateFormatter\n",
    "# #import matplotlib.ticker.Formatter\n",
    "# date_form = DateFormatter(\"%m-%d\")\n",
    "# months = mdates.MonthLocator() \n",
    "\n",
    "# denton_df=covid_weather_df[covid_weather_df['county_x']== \"Denton\"]\n",
    "# dates=denton_df['date']\n",
    "# cases=denton_df['cases']\n",
    "# temp= denton_df['temperature (degC)']\n",
    "\n",
    "# fig, ax1 = plt.subplots()\n",
    "# ax1.plot(dates, cases)\n",
    "# #plt.xticks (pd.date_range('2020-03-15', '2021-03-17', freq=\"M\"))\n",
    "# ax1.xaxis.set_major_formatter(months)\n",
    "# #ax1.xaxis.set_major_locator(months)\n",
    "# # ax2.xaxis.set_major_locator(months)\n",
    "# ax2 = ax1.twinx() \n",
    "# ax2.plot(date, temp)\n",
    "# ax2.set_ylabel(\"temp(degC)\")\n",
    "# ax2.tick_params(axis='y')\n",
    "\n",
    "\n",
    "# fig.autofmt_xdate()"
   ]
  },
  {
   "cell_type": "code",
   "execution_count": 109,
   "id": "entitled-innocent",
   "metadata": {},
   "outputs": [
    {
     "data": {
      "text/plain": [
       "Index(['date', 'temperature', 'wind_speed', 'surface_solar_radiation',\n",
       "       'total_cloud_cover', 'total_precipitation', 'relative_humidity',\n",
       "       'county', 'state', 'fips', 'state_id', 'population', 'lat', 'lng',\n",
       "       'cases', 'deaths', 'cases_per_100k', 'deaths_per_100k',\n",
       "       'new_cases_per_100k', 'new_deaths_per_100k', 'new_cases', 'new_deaths'],\n",
       "      dtype='object')"
      ]
     },
     "execution_count": 109,
     "metadata": {},
     "output_type": "execute_result"
    }
   ],
   "source": [
    "daily_df.columns"
   ]
  },
  {
   "cell_type": "code",
   "execution_count": 15,
   "id": "enormous-protest",
   "metadata": {},
   "outputs": [],
   "source": [
    "agg_df=daily_df.groupby('county').agg({\n",
    "    'temperature':['median'], \n",
    "    'wind_speed':['median'], \n",
    "    'surface_solar_radiation':['median'],\n",
    "    'total_cloud_cover':['median'], \n",
    "    'total_precipitation':['median'], \n",
    "    'relative_humidity':['mean'],\n",
    "    'population':['max'], \n",
    "    'cases':['max'], \n",
    "    'deaths':['max'], \n",
    "    'cases_per_100k':['max'], \n",
    "    'deaths_per_100k':['max']\n",
    "})"
   ]
  },
  {
   "cell_type": "code",
   "execution_count": 16,
   "id": "right-murray",
   "metadata": {},
   "outputs": [
    {
     "data": {
      "text/plain": [
       "58"
      ]
     },
     "execution_count": 16,
     "metadata": {},
     "output_type": "execute_result"
    }
   ],
   "source": [
    "#drop nested headers\n",
    "#agg_df.columns=agg_df.columns.droplevel(1)\n",
    "len(agg_df)"
   ]
  },
  {
   "cell_type": "code",
   "execution_count": 12,
   "id": "stupid-canadian",
   "metadata": {},
   "outputs": [
    {
     "data": {
      "text/plain": [
       "<matplotlib.collections.PathCollection at 0x2af713665c0>"
      ]
     },
     "execution_count": 12,
     "metadata": {},
     "output_type": "execute_result"
    },
    {
     "data": {
      "image/png": "[encoded data removed]",
      "text/plain": [
       "<Figure size 432x288 with 1 Axes>"
      ]
     },
     "metadata": {
      "needs_background": "light"
     },
     "output_type": "display_data"
    }
   ],
   "source": [
    "plt.scatter(daily_df['surface_solar_radiation'],daily_df['new_cases_per_100k'])\n"
   ]
  },
  {
   "cell_type": "code",
   "execution_count": null,
   "id": "ancient-greenhouse",
   "metadata": {},
   "outputs": [],
   "source": []
  }
 ],
 "metadata": {
  "kernelspec": {
   "display_name": "Python 3",
   "language": "python",
   "name": "python3"
  },
  "language_info": {
   "codemirror_mode": {
    "name": "ipython",
    "version": 3
   },
   "file_extension": ".py",
   "mimetype": "text/x-python",
   "name": "python",
   "nbconvert_exporter": "python",
   "pygments_lexer": "ipython3",
   "version": "3.6.10"
  }
 },
 "nbformat": 4,
 "nbformat_minor": 5
}
