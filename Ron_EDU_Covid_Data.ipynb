{
 "cells": [
  {
   "cell_type": "code",
   "execution_count": 1,
   "metadata": {},
   "outputs": [
    {
     "data": {
      "text/html": [
       "<div>\n",
       "<style scoped>\n",
       "    .dataframe tbody tr th:only-of-type {\n",
       "        vertical-align: middle;\n",
       "    }\n",
       "\n",
       "    .dataframe tbody tr th {\n",
       "        vertical-align: top;\n",
       "    }\n",
       "\n",
       "    .dataframe thead th {\n",
       "        text-align: right;\n",
       "    }\n",
       "</style>\n",
       "<table border=\"1\" class=\"dataframe\">\n",
       "  <thead>\n",
       "    <tr style=\"text-align: right;\">\n",
       "      <th></th>\n",
       "      <th>Date</th>\n",
       "      <th>ISO</th>\n",
       "      <th>Country</th>\n",
       "      <th>Status</th>\n",
       "      <th>Note</th>\n",
       "    </tr>\n",
       "  </thead>\n",
       "  <tbody>\n",
       "    <tr>\n",
       "      <th>0</th>\n",
       "      <td>16/02/2020</td>\n",
       "      <td>BGD</td>\n",
       "      <td>Bangladesh</td>\n",
       "      <td>Fully open</td>\n",
       "      <td>NaN</td>\n",
       "    </tr>\n",
       "    <tr>\n",
       "      <th>1</th>\n",
       "      <td>16/02/2020</td>\n",
       "      <td>BRA</td>\n",
       "      <td>Brazil</td>\n",
       "      <td>Fully open</td>\n",
       "      <td>NaN</td>\n",
       "    </tr>\n",
       "    <tr>\n",
       "      <th>2</th>\n",
       "      <td>16/02/2020</td>\n",
       "      <td>CHN</td>\n",
       "      <td>China</td>\n",
       "      <td>Partially open</td>\n",
       "      <td>NaN</td>\n",
       "    </tr>\n",
       "    <tr>\n",
       "      <th>3</th>\n",
       "      <td>16/02/2020</td>\n",
       "      <td>IDN</td>\n",
       "      <td>Indonesia</td>\n",
       "      <td>Fully open</td>\n",
       "      <td>NaN</td>\n",
       "    </tr>\n",
       "    <tr>\n",
       "      <th>4</th>\n",
       "      <td>16/02/2020</td>\n",
       "      <td>IND</td>\n",
       "      <td>India</td>\n",
       "      <td>Fully open</td>\n",
       "      <td>NaN</td>\n",
       "    </tr>\n",
       "  </tbody>\n",
       "</table>\n",
       "</div>"
      ],
      "text/plain": [
       "         Date  ISO     Country          Status  Note\n",
       "0  16/02/2020  BGD  Bangladesh      Fully open   NaN\n",
       "1  16/02/2020  BRA      Brazil      Fully open   NaN\n",
       "2  16/02/2020  CHN       China  Partially open   NaN\n",
       "3  16/02/2020  IDN   Indonesia      Fully open   NaN\n",
       "4  16/02/2020  IND       India      Fully open   NaN"
      ]
     },
     "execution_count": 1,
     "metadata": {},
     "output_type": "execute_result"
    }
   ],
   "source": [
    "### Imports\n",
    "import matplotlib.pyplot as plt\n",
    "import pandas as pd\n",
    "import numpy as np\n",
    "import requests\n",
    "import time\n",
    "from scipy.stats import linregress\n",
    "\n",
    "#from config import key_dict\n",
    "#gkey= key_dict['KEY NAME GOES HERE']\n",
    "\n",
    "\n",
    "#Import CSV file\n",
    "edu_data = \"Resources/edu_impact.csv\"\n",
    "\n",
    "edu_data_df = pd.read_csv(edu_data)\n",
    "\n",
    "edu_data_df.head()\n",
    "\n",
    "\n",
    "\n"
   ]
  },
  {
   "cell_type": "code",
   "execution_count": 2,
   "metadata": {},
   "outputs": [
    {
     "data": {
      "text/html": [
       "<div>\n",
       "<style scoped>\n",
       "    .dataframe tbody tr th:only-of-type {\n",
       "        vertical-align: middle;\n",
       "    }\n",
       "\n",
       "    .dataframe tbody tr th {\n",
       "        vertical-align: top;\n",
       "    }\n",
       "\n",
       "    .dataframe thead th {\n",
       "        text-align: right;\n",
       "    }\n",
       "</style>\n",
       "<table border=\"1\" class=\"dataframe\">\n",
       "  <thead>\n",
       "    <tr style=\"text-align: right;\">\n",
       "      <th></th>\n",
       "      <th>Date</th>\n",
       "      <th>Country</th>\n",
       "      <th>Status</th>\n",
       "    </tr>\n",
       "  </thead>\n",
       "  <tbody>\n",
       "    <tr>\n",
       "      <th>0</th>\n",
       "      <td>16/02/2020</td>\n",
       "      <td>Bangladesh</td>\n",
       "      <td>Fully open</td>\n",
       "    </tr>\n",
       "    <tr>\n",
       "      <th>1</th>\n",
       "      <td>16/02/2020</td>\n",
       "      <td>Brazil</td>\n",
       "      <td>Fully open</td>\n",
       "    </tr>\n",
       "    <tr>\n",
       "      <th>2</th>\n",
       "      <td>16/02/2020</td>\n",
       "      <td>China</td>\n",
       "      <td>Partially open</td>\n",
       "    </tr>\n",
       "    <tr>\n",
       "      <th>3</th>\n",
       "      <td>16/02/2020</td>\n",
       "      <td>Indonesia</td>\n",
       "      <td>Fully open</td>\n",
       "    </tr>\n",
       "    <tr>\n",
       "      <th>4</th>\n",
       "      <td>16/02/2020</td>\n",
       "      <td>India</td>\n",
       "      <td>Fully open</td>\n",
       "    </tr>\n",
       "  </tbody>\n",
       "</table>\n",
       "</div>"
      ],
      "text/plain": [
       "         Date     Country          Status\n",
       "0  16/02/2020  Bangladesh      Fully open\n",
       "1  16/02/2020      Brazil      Fully open\n",
       "2  16/02/2020       China  Partially open\n",
       "3  16/02/2020   Indonesia      Fully open\n",
       "4  16/02/2020       India      Fully open"
      ]
     },
     "execution_count": 2,
     "metadata": {},
     "output_type": "execute_result"
    }
   ],
   "source": [
    "#Cleaning Data, dropping unnecessary columns\n",
    "\n",
    "to_drop = [\"ISO\",\"Note\"]\n",
    "\n",
    "edu_data_df.drop(to_drop, inplace= True, axis=1)\n",
    "\n",
    "edu_data_df.head()\n"
   ]
  },
  {
   "cell_type": "code",
   "execution_count": 3,
   "metadata": {
    "scrolled": false
   },
   "outputs": [
    {
     "name": "stdout",
     "output_type": "stream",
     "text": [
      "<pandas.core.groupby.generic.DataFrameGroupBy object at 0x00000241F216FA20>\n"
     ]
    },
    {
     "data": {
      "text/html": [
       "<div>\n",
       "<style scoped>\n",
       "    .dataframe tbody tr th:only-of-type {\n",
       "        vertical-align: middle;\n",
       "    }\n",
       "\n",
       "    .dataframe tbody tr th {\n",
       "        vertical-align: top;\n",
       "    }\n",
       "\n",
       "    .dataframe thead th {\n",
       "        text-align: right;\n",
       "    }\n",
       "</style>\n",
       "<table border=\"1\" class=\"dataframe\">\n",
       "  <thead>\n",
       "    <tr style=\"text-align: right;\">\n",
       "      <th></th>\n",
       "      <th></th>\n",
       "      <th></th>\n",
       "    </tr>\n",
       "    <tr>\n",
       "      <th>Country</th>\n",
       "      <th>Date</th>\n",
       "      <th>Status</th>\n",
       "    </tr>\n",
       "  </thead>\n",
       "  <tbody>\n",
       "    <tr>\n",
       "      <th rowspan=\"4\" valign=\"top\">Bangladesh</th>\n",
       "      <th>16/02/2020</th>\n",
       "      <th>Fully open</th>\n",
       "    </tr>\n",
       "    <tr>\n",
       "      <th>17/02/2020</th>\n",
       "      <th>Fully open</th>\n",
       "    </tr>\n",
       "    <tr>\n",
       "      <th>18/02/2020</th>\n",
       "      <th>Fully open</th>\n",
       "    </tr>\n",
       "    <tr>\n",
       "      <th>19/02/2020</th>\n",
       "      <th>Fully open</th>\n",
       "    </tr>\n",
       "    <tr>\n",
       "      <th rowspan=\"4\" valign=\"top\">Brazil</th>\n",
       "      <th>16/02/2020</th>\n",
       "      <th>Fully open</th>\n",
       "    </tr>\n",
       "    <tr>\n",
       "      <th>17/02/2020</th>\n",
       "      <th>Fully open</th>\n",
       "    </tr>\n",
       "    <tr>\n",
       "      <th>18/02/2020</th>\n",
       "      <th>Fully open</th>\n",
       "    </tr>\n",
       "    <tr>\n",
       "      <th>19/02/2020</th>\n",
       "      <th>Fully open</th>\n",
       "    </tr>\n",
       "    <tr>\n",
       "      <th rowspan=\"2\" valign=\"top\">China</th>\n",
       "      <th>16/02/2020</th>\n",
       "      <th>Partially open</th>\n",
       "    </tr>\n",
       "    <tr>\n",
       "      <th>17/02/2020</th>\n",
       "      <th>Partially open</th>\n",
       "    </tr>\n",
       "  </tbody>\n",
       "</table>\n",
       "</div>"
      ],
      "text/plain": [
       "Empty DataFrame\n",
       "Columns: []\n",
       "Index: [(Bangladesh, 16/02/2020, Fully open), (Bangladesh, 17/02/2020, Fully open), (Bangladesh, 18/02/2020, Fully open), (Bangladesh, 19/02/2020, Fully open), (Brazil, 16/02/2020, Fully open), (Brazil, 17/02/2020, Fully open), (Brazil, 18/02/2020, Fully open), (Brazil, 19/02/2020, Fully open), (China, 16/02/2020, Partially open), (China, 17/02/2020, Partially open)]"
      ]
     },
     "execution_count": 3,
     "metadata": {},
     "output_type": "execute_result"
    }
   ],
   "source": [
    "#group the Dates and Status by country\n",
    "#Gathering data on how many sample days in 2020 were closures for top 10 most populated countries\n",
    "\n",
    "\n",
    "grouped_country_df = edu_data_df.groupby([\"Country\",\"Date\",\"Status\"])\n",
    "\n",
    "print(grouped_country_df)\n",
    "\n",
    "grouped_country_df.count().head(10)"
   ]
  },
  {
   "cell_type": "code",
   "execution_count": 6,
   "metadata": {
    "scrolled": true
   },
   "outputs": [
    {
     "data": {
      "text/html": [
       "<div>\n",
       "<style scoped>\n",
       "    .dataframe tbody tr th:only-of-type {\n",
       "        vertical-align: middle;\n",
       "    }\n",
       "\n",
       "    .dataframe tbody tr th {\n",
       "        vertical-align: top;\n",
       "    }\n",
       "\n",
       "    .dataframe thead th {\n",
       "        text-align: right;\n",
       "    }\n",
       "</style>\n",
       "<table border=\"1\" class=\"dataframe\">\n",
       "  <thead>\n",
       "    <tr style=\"text-align: right;\">\n",
       "      <th></th>\n",
       "      <th>Date</th>\n",
       "      <th>Status</th>\n",
       "    </tr>\n",
       "    <tr>\n",
       "      <th>Country</th>\n",
       "      <th></th>\n",
       "      <th></th>\n",
       "    </tr>\n",
       "  </thead>\n",
       "  <tbody>\n",
       "  </tbody>\n",
       "</table>\n",
       "</div>"
      ],
      "text/plain": [
       "Empty DataFrame\n",
       "Columns: [Date, Status]\n",
       "Index: []"
      ]
     },
     "execution_count": 6,
     "metadata": {},
     "output_type": "execute_result"
    }
   ],
   "source": [
    "#Count of how many days each Country were closed for Education due to Covid-19 in 2020.\n",
    "\n",
    "Status_count_df = edu_data_df[edu_data_df[\"Status\"] ==\"Closed due to COVID-19\"]\n",
    "\n",
    "Count = Status_count_df.groupby([\"Country\"]).count()\n",
    "\n",
    "\n",
    "\n"
   ]
  },
  {
   "cell_type": "code",
   "execution_count": 5,
   "metadata": {},
   "outputs": [
    {
     "data": {
      "image/png": "[encoded data removed]",
      "text/plain": [
       "<Figure size 432x288 with 1 Axes>"
      ]
     },
     "metadata": {
      "needs_background": "light"
     },
     "output_type": "display_data"
    }
   ],
   "source": [
    "fig = plt.figure()\n",
    "width = 0.60\n",
    "ax = fig.add_axes([0,0,1,1])\n",
    "countries = ['Bangladesh', 'Brazil', 'China', 'India', 'Indonesia', 'Mexico', 'Nigeria', 'Pakistan']\n",
    "days = [241,267,66,204,142,228,125,153]\n",
    "ax.bar(countries,days)\n",
    "ax.set_ylabel('Days affected')\n",
    "ax.set_xlabel('Top 10 Most Populated Countries')\n",
    "ax.set_title('Days Closed for Education Due to Covid-19 in 2020')\n",
    "ax.legend(labels=['Days affected', 'Country'])\n",
    "plt.show()"
   ]
  },
  {
   "cell_type": "code",
   "execution_count": null,
   "metadata": {},
   "outputs": [],
   "source": [
    "# plot_time_series.py\n",
    "# (End result goal is to show top 10-25 countries affected with the the fastest Closures (and how long) due to Covid-19)\n",
    "\n",
    "\n",
    "data = pd.read_csv(\"Resources/edu_impact2.csv\")\n",
    "country = data[\"Country\"]\n",
    "status_date = data[\"Date\"]\n",
    "open_status = data[\"Status\"]\n",
    "plt.plot_date(country, open_status, linestyle='solid')\n",
    "\n",
    "\n",
    "\n"
   ]
  },
  {
   "cell_type": "code",
   "execution_count": null,
   "metadata": {},
   "outputs": [],
   "source": []
  }
 ],
 "metadata": {
  "kernelspec": {
   "display_name": "Python [conda env:PythonData]",
   "language": "python",
   "name": "conda-env-PythonData-py"
  },
  "language_info": {
   "codemirror_mode": {
    "name": "ipython",
    "version": 3
   },
   "file_extension": ".py",
   "mimetype": "text/x-python",
   "name": "python",
   "nbconvert_exporter": "python",
   "pygments_lexer": "ipython3",
   "version": "3.6.10"
  }
 },
 "nbformat": 4,
 "nbformat_minor": 5
}
